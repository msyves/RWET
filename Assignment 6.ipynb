{
 "cells": [
  {
   "cell_type": "markdown",
   "metadata": {},
   "source": [
    "# Assignment 6\n",
    "## Experimenting with old work (and also new ones)\n",
    "\n",
    "Revisition of week 3's lyrics mash-up and some new ones"
   ]
  },
  {
   "cell_type": "code",
   "execution_count": 85,
   "metadata": {},
   "outputs": [],
   "source": [
    "import random\n",
    "import numpy as np\n",
    "from simpleneighbors import SimpleNeighbors\n",
    "import spacy\n",
    "nlp = spacy.load('en_core_web_md')"
   ]
  },
  {
   "cell_type": "code",
   "execution_count": 2,
   "metadata": {},
   "outputs": [],
   "source": [
    "import pronouncing"
   ]
  },
  {
   "cell_type": "code",
   "execution_count": 45,
   "metadata": {},
   "outputs": [],
   "source": [
    "moveon = nlp(open(\"plaintext/moveon.txt\").read())\n",
    "love = open(\"plaintext/lovesostrong.txt\").read()\n",
    "trouble = open(\"plaintext/trouble.txt\").read()"
   ]
  },
  {
   "cell_type": "code",
   "execution_count": 90,
   "metadata": {},
   "outputs": [],
   "source": [
    "lookup = SimpleNeighbors(300)\n",
    "for item in nlp.vocab:\n",
    "    if item.has_vector and item.prob > -15 and item.is_lower:\n",
    "        lookup.add_one(item.text, item.vector)\n",
    "lookup.build()"
   ]
  },
  {
   "cell_type": "code",
   "execution_count": 105,
   "metadata": {},
   "outputs": [],
   "source": [
    "love = open(\"plaintext/lovesostrong.txt\").read().split(\"\\n\")\n",
    "trouble = open(\"plaintext/trouble.txt\").read().split(\"\\n\")\n",
    "moveon = open(\"plaintext/moveon.txt\").read().split(\"\\n\")\n",
    "relationship = love + trouble + moveon"
   ]
  },
  {
   "cell_type": "code",
   "execution_count": 242,
   "metadata": {
    "scrolled": true
   },
   "outputs": [
    {
     "name": "stdout",
     "output_type": "stream",
     "text": [
      "so if you never want to be even\n",
      "\n",
      "my loved for you is oh so focussed\n",
      "\n",
      "\n",
      "might you sit me on a couch?\n",
      "With your fingertips in my mouth?\n",
      "might you implore or could you crawl?\n",
      "I bets you kiss your knuckles\n",
      "make a extinguisher in my face, tommorow\n",
      "thin sliced roofing shelled\n",
      "hey baby\n",
      "\n",
      "to see to it that there's no that but you and me\n",
      "they you pins me to a wall?\n",
      "glad to first and earlier\n",
      "relocate On\n",
      "I truly realize that marvelous which so tremendous\n",
      "need you here his unflattering?\n",
      "go on and illumination a ashtray, sets a wildfire in my head\n"
     ]
    }
   ],
   "source": [
    "ourrelationship = random.sample(relationship, 20)\n",
    "patience = '\\n'.join(ourrelationship)\n",
    "bepatient = nlp(patience)\n",
    "output = []\n",
    "for word in bepatient:\n",
    "    if word.is_alpha and word.pos_ in ('NOUN', 'VERB', 'ADJ'):\n",
    "        new_word = random.choice(lookup.nearest(word.vector, 5))\n",
    "        output.append(new_word)\n",
    "    else:\n",
    "        output.append(word.text)\n",
    "    output.append(word.whitespace_)\n",
    "print(''.join(output))"
   ]
  },
  {
   "cell_type": "code",
   "execution_count": 3,
   "metadata": {},
   "outputs": [],
   "source": [
    "cherry = open(\"plaintext/cherry.txt\").readlines()\n",
    "never = open(\"plaintext/Never Let Me Go.txt\").readlines()\n",
    "off = open(\"plaintext/Off To The Races.txt\").readlines()\n",
    "ourway = open(\"plaintext/On Our Way.txt\").readlines()\n",
    "prom = open(\"plaintext/Prom Song.txt\").readlines()\n",
    "girls = open(\"plaintext/This Is What Makes Us Girls.txt\").readlines()"
   ]
  },
  {
   "cell_type": "code",
   "execution_count": 4,
   "metadata": {},
   "outputs": [],
   "source": [
    "thistime = cherry + never + off + ourway + prom +girls"
   ]
  },
  {
   "cell_type": "code",
   "execution_count": 5,
   "metadata": {},
   "outputs": [],
   "source": [
    "lines = [line.strip() for line in thistime\n",
    "         if len(line.strip()) > 0]"
   ]
  },
  {
   "cell_type": "code",
   "execution_count": 116,
   "metadata": {},
   "outputs": [],
   "source": [
    "lines_with_rhyming_parts = list()\n",
    "for line in lines:\n",
    "    words = line.split()\n",
    "    last_word = words[-1].strip('.,?!;:')\n",
    "    last_word_p = pronouncing.phones_for_word(last_word)\n",
    "    for phones in last_word_p:\n",
    "        rhyming_part = pronouncing.rhyming_part(phones)\n",
    "        line_with_part = [rhyming_part, line]\n",
    "        lines_with_rhyming_parts.append(line_with_part)"
   ]
  },
  {
   "cell_type": "code",
   "execution_count": 117,
   "metadata": {},
   "outputs": [],
   "source": [
    "def get_random_rhyming_couplet(line_db):\n",
    "    first = random.choice(line_db)\n",
    "    rhyming_lines = list()\n",
    "    for item in line_db:\n",
    "        if item[0] == first[0]:\n",
    "            rhyming_lines.append(item)\n",
    "    second = random.choice(rhyming_lines)\n",
    "    return [first[1], second[1]]"
   ]
  },
  {
   "cell_type": "code",
   "execution_count": 118,
   "metadata": {},
   "outputs": [
    {
     "data": {
      "text/plain": [
       "['Hey you never know', 'Never let me go']"
      ]
     },
     "execution_count": 118,
     "metadata": {},
     "output_type": "execute_result"
    }
   ],
   "source": [
    "get_random_rhyming_couplet(lines_with_rhyming_parts)"
   ]
  },
  {
   "cell_type": "code",
   "execution_count": 246,
   "metadata": {},
   "outputs": [
    {
     "name": "stdout",
     "output_type": "stream",
     "text": [
      "You pull my hair and push me down and chase me, make me run\n",
      "I know that they say that all I want is to have fun\n",
      "I need you to come here and save me\n",
      "About me\n",
      "I fall to pieces when I'm with you\n",
      "Hot white, and blue\n",
      "And he shows me\n",
      "You don’t know what you’ve done to me\n"
     ]
    }
   ],
   "source": [
    "for i in range(4):\n",
    "    couplet = get_random_rhyming_couplet(lines_with_rhyming_parts)\n",
    "    print(couplet[0])\n",
    "    print(couplet[1])"
   ]
  }
 ],
 "metadata": {
  "kernelspec": {
   "display_name": "Python 3",
   "language": "python",
   "name": "python3"
  },
  "language_info": {
   "codemirror_mode": {
    "name": "ipython",
    "version": 3
   },
   "file_extension": ".py",
   "mimetype": "text/x-python",
   "name": "python",
   "nbconvert_exporter": "python",
   "pygments_lexer": "ipython3",
   "version": "3.7.3"
  }
 },
 "nbformat": 4,
 "nbformat_minor": 2
}
