{
 "cells": [
  {
   "cell_type": "markdown",
   "metadata": {},
   "source": [
    "# trouble so strong\n",
    "\n",
    "Lyrics mashup sampled from me and my gf's favorite songs; Love So Strong by The Lovelites, Trouble by Halsey and Move On by City Garden Movement"
   ]
  },
  {
   "cell_type": "code",
   "execution_count": 375,
   "metadata": {},
   "outputs": [],
   "source": [
    "import random"
   ]
  },
  {
   "cell_type": "code",
   "execution_count": 376,
   "metadata": {},
   "outputs": [],
   "source": [
    "love = open(\"plaintext/lovesostrong.txt\").read().split(\"\\n\")\n",
    "trouble = open(\"plaintext/trouble.txt\").read().split(\"\\n\")\n",
    "moveon = open(\"plaintext/moveon.txt\").read().split()\n",
    "justmoveon = [' ' + will + ' ' for will in moveon]"
   ]
  },
  {
   "cell_type": "code",
   "execution_count": 381,
   "metadata": {
    "scrolled": false
   },
   "outputs": [
    {
     "name": "stdout",
     "output_type": "stream",
     "text": [
      "and you decide you want to come on home\n",
      "\n",
      "\n",
      "'Cause there's a menace in my bed\n",
      "to see to naked, that there's no one but chocolates and me\n",
      "cause naked, know Late know Late were wrong\n",
      "Stick a needle in your hungry eyes for me?\n",
      "cause most of the time it's you\n",
      "\n",
      "Can you see his silhouette?\n",
      "Hmm, when love met me when love met me\n",
      "Can you see his silhouette?\n",
      "begging in” to please forgive me\n",
      "\n",
      "I wouldn't leave me Fragile you'd let me\n"
     ]
    }
   ],
   "source": [
    "relationship = love + trouble\n",
    "ourrelationship = random.sample(relationship, 15)\n",
    "patience = '\\n'.join(ourrelationship).split()\n",
    "bepatient = [' ' + mind + ' ' for mind in patience]\n",
    "\n",
    "for heartbreak in ourrelationship:\n",
    "    hell = random.choice(bepatient)\n",
    "    raisehell = random.choice(bepatient)\n",
    "    justhell = random.choice(bepatient)\n",
    "    hellagain = random.choice(bepatient)\n",
    "    morehell = random.choice(bepatient)\n",
    "    evenmorehell = random.choice(bepatient)\n",
    "    deeperhell = random.choice(bepatient)\n",
    "    deepesthell = random.choice(bepatient)\n",
    "    heaven = random.choice(justmoveon)\n",
    "    raiseheaven = random.choice(justmoveon)\n",
    "    justheaven = random.choice(justmoveon)\n",
    "    heavenagain = random.choice(justmoveon)\n",
    "    moreheaven = random.choice(justmoveon)\n",
    "    evenmoreheaven = random.choice(justmoveon)\n",
    "    higherheaven = random.choice(justmoveon)\n",
    "    highestheaven = random.choice(justmoveon)\n",
    "    print(heartbreak.replace(hell, heaven).replace(raisehell, raiseheaven).replace(justhell, justheaven).replace(hellagain, heavenagain).replace(morehell, moreheaven).replace(evenmorehell, evenmoreheaven).replace(deeperhell, higerheaven).replace(deepesthell, highestheaven))"
   ]
  }
 ],
 "metadata": {
  "kernelspec": {
   "display_name": "Python 3",
   "language": "python",
   "name": "python3"
  },
  "language_info": {
   "codemirror_mode": {
    "name": "ipython",
    "version": 3
   },
   "file_extension": ".py",
   "mimetype": "text/x-python",
   "name": "python",
   "nbconvert_exporter": "python",
   "pygments_lexer": "ipython3",
   "version": "3.7.1"
  }
 },
 "nbformat": 4,
 "nbformat_minor": 2
}
