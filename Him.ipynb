{
 "cells": [
  {
   "cell_type": "markdown",
   "metadata": {},
   "source": [
    "## 'Him'"
   ]
  },
  {
   "cell_type": "code",
   "execution_count": 1,
   "metadata": {},
   "outputs": [],
   "source": [
    "import random"
   ]
  },
  {
   "cell_type": "code",
   "execution_count": 269,
   "metadata": {},
   "outputs": [],
   "source": [
    "import spacy\n",
    "nlp = spacy.load('en_core_web_md')\n",
    "from simpleneighbors import SimpleNeighbors\n",
    "import numpy as np"
   ]
  },
  {
   "cell_type": "code",
   "execution_count": 673,
   "metadata": {},
   "outputs": [],
   "source": [
    "hedoes = [x.strip('\\n') for x in open(\"plaintext/hedoes.txt\").readlines()]\n",
    "hesays = [x.strip('\\n') for x in open(\"plaintext/hesays.txt\").readlines()]\n",
    "hefeels = [x.strip('\\n') for x in open(\"plaintext/hefeels.txt\").readlines()]\n",
    "pleasedo = [x.strip('\\n') for x in open(\"plaintext/pleasedo.txt\").readlines()]"
   ]
  },
  {
   "cell_type": "code",
   "execution_count": 717,
   "metadata": {
    "scrolled": true
   },
   "outputs": [
    {
     "name": "stdout",
     "output_type": "stream",
     "text": [
      "It will. It will not go. It will not go away even. It will not go away even the cancer. It will not go away even the cancer is gone. Can only. Can only stay in. Can only stay in bed. Will not. Will not say how. Will not say how it feels. Heart rate. Heart rate is too. Heart rate is too high. Is really. Is really weak. Loses voice. \n",
      "\n",
      "He says 'I am so proud of you.'\n",
      "\n",
      "Is so. Is so loud. Wants me. Wants me to pick. Wants me to pick up the. Wants me to pick up the call. Is not. Is not happy. Thinks he. Thinks he is dying. Needs my. Needs my support. Looks relieved. \n",
      "\n",
      "Welcoming, pleasurable, hospitality\n",
      "\n",
      "Do not be scared. \n"
     ]
    }
   ],
   "source": [
    "he_does = [x.strip('.') for x in random.sample(hedoes, 6)]\n",
    "he_feels = [x.strip('.') for x in random.sample(hefeels, 6)]\n",
    "\n",
    "he__does = nlp(\"\".join(he_does))\n",
    "adj = nlp(open(\"plaintext/adjs.txt\").read())\n",
    "\n",
    "def hispoem(sentence, chunk_size, repeat):\n",
    "    words = sentence.split(\" \")\n",
    "    output_text = \"\"\n",
    "    for i in range(chunk_size, len(words) + chunk_size, chunk_size):\n",
    "        for word in range(repeat):\n",
    "            output_text += \" \".join(words[0: i]) + \". \"\n",
    "    return output_text\n",
    "\n",
    "adj_lookup = SimpleNeighbors(300)\n",
    "for word in adj:\n",
    "    if word.tag_ == 'JJ' and word.text not in adj_lookup.corpus:\n",
    "        adj_lookup.add_one(word.text, word.vector)\n",
    "adj_lookup.build()\n",
    "\n",
    "output = []\n",
    "for word in he__does:\n",
    "    if word.is_alpha and word.pos_ in ('NOUN', 'ADJ'):\n",
    "        new_word = random.choice(adj_lookup.nearest(word.vector, 3))\n",
    "        output.append(new_word)  \n",
    "syn = lookup.nearest(vec(random.choice(output)))\n",
    "        \n",
    "repeattimes = 1\n",
    "\n",
    "for sentence in he_does:\n",
    "    lines = hispoem(sentence.strip().capitalize(), 2, repeattimes)\n",
    "    print(lines, end =\"\")\n",
    "\n",
    "print(\"\\n\")\n",
    "print(\"He says\" + \" '\"+random.choice(hesays) + \"'\")\n",
    "print(\"\")\n",
    "\n",
    "for sentence in he_feels:\n",
    "    lines = hispoem(sentence.strip().capitalize(), 2, repeattimes)\n",
    "    print(lines, end =\"\")\n",
    "\n",
    "print(\"\\n\")    \n",
    "print(', '.join(random.sample(syn, 3)).lower().capitalize())\n",
    "print(\"\")\n",
    "print(random.choice(pleasedo))"
   ]
  }
 ],
 "metadata": {
  "kernelspec": {
   "display_name": "Python 3",
   "language": "python",
   "name": "python3"
  },
  "language_info": {
   "codemirror_mode": {
    "name": "ipython",
    "version": 3
   },
   "file_extension": ".py",
   "mimetype": "text/x-python",
   "name": "python",
   "nbconvert_exporter": "python",
   "pygments_lexer": "ipython3",
   "version": "3.7.3"
  }
 },
 "nbformat": 4,
 "nbformat_minor": 2
}
