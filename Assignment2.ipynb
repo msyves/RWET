{
 "cells": [
  {
   "cell_type": "markdown",
   "metadata": {},
   "source": [
    "# Excerpts from that one time we didn't get into a fight 😇\n",
    "\n",
    "Vocabulary chosen from the [conversation](https://sugarskin.xyz/2019/02/07/rwet-assignment-1/) between me and my girlfriend on 2019.02.06"
   ]
  },
  {
   "cell_type": "code",
   "execution_count": 1,
   "metadata": {},
   "outputs": [],
   "source": [
    "verbs = [\n",
    "    'smell',\n",
    "    'forget',\n",
    "    'hit',\n",
    "    'fight',\n",
    "    'spank',\n",
    "    'pack',\n",
    "    'insist',\n",
    "    'sleep',\n",
    "    'drop',\n",
    "    'leave',\n",
    "    'talk',\n",
    "    'yell',\n",
    "    'remember',\n",
    "]"
   ]
  },
  {
   "cell_type": "code",
   "execution_count": 2,
   "metadata": {},
   "outputs": [],
   "source": [
    "nouns = [\n",
    "    'I',\n",
    "    'you',\n",
    "    'trash',\n",
    "    'toilet',\n",
    "    'dish',\n",
    "    'home',\n",
    "    'shower',\n",
    "    'bed',\n",
    "    'food stain',\n",
    "    'floor',\n",
    "    'noise',\n",
    "    'lunch'\n",
    "]"
   ]
  },
  {
   "cell_type": "code",
   "execution_count": 3,
   "metadata": {},
   "outputs": [],
   "source": [
    "adj = [\n",
    "    'bad',\n",
    "    'crazy',\n",
    "    'nice',\n",
    "    'hot',\n",
    "    'hungry',\n",
    "    'sensitive',\n",
    "    'real',\n",
    "    'tiring',\n",
    "    'small'\n",
    "]"
   ]
  },
  {
   "cell_type": "code",
   "execution_count": 4,
   "metadata": {},
   "outputs": [],
   "source": [
    "adv = [\n",
    "    'early',\n",
    "    'so',\n",
    "    'recently',\n",
    "    'actually',\n",
    "    'already',\n",
    "]"
   ]
  },
  {
   "cell_type": "code",
   "execution_count": 5,
   "metadata": {},
   "outputs": [],
   "source": [
    "import random"
   ]
  },
  {
   "cell_type": "code",
   "execution_count": 129,
   "metadata": {},
   "outputs": [
    {
     "name": "stdout",
     "output_type": "stream",
     "text": [
      "I\n",
      "   fight \n",
      "       so bad floor.\n"
     ]
    }
   ],
   "source": [
    "plural = random.sample([\"s\", \"\"], k=2)\n",
    "subj = random.choice(nouns)\n",
    "vrb = \" \" + random.choice(verbs)\n",
    "if subj == \"I\" or subj == \"you\":\n",
    "    vrb += \" \"\n",
    "else:\n",
    "    vrb += plural[0] + \" \"\n",
    "aft = random.choice(adv) + \" \" + random.choice(adj) + \" \" + random.choice(nouns[3:]) + \".\"\n",
    "# output = subj + vrb + aft\n",
    "# print(output.capitzlize())\n",
    "print(subj.capitalize())\n",
    "print(\"  \" + vrb)\n",
    "print(\"       \" + aft)"
   ]
  }
 ],
 "metadata": {
  "kernelspec": {
   "display_name": "Python 3",
   "language": "python",
   "name": "python3"
  },
  "language_info": {
   "codemirror_mode": {
    "name": "ipython",
    "version": 3
   },
   "file_extension": ".py",
   "mimetype": "text/x-python",
   "name": "python",
   "nbconvert_exporter": "python",
   "pygments_lexer": "ipython3",
   "version": "3.7.1"
  }
 },
 "nbformat": 4,
 "nbformat_minor": 2
}
