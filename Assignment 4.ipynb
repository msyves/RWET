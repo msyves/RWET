{
 "cells": [
  {
   "cell_type": "markdown",
   "metadata": {},
   "source": [
    "## Our Modern Love Story"
   ]
  },
  {
   "cell_type": "markdown",
   "metadata": {},
   "source": [
    "### How Our World Works In A Weird Way\n",
    "\n",
    "#### Form\n",
    "\n",
    "line 1 (statement)\n",
    "\n",
    "line 2 (conjunction)\n",
    "\n",
    "line 3 (statement that contrasts with the the first line)\n",
    "\n",
    "line 4 (conclusion)\n",
    "\n",
    "repeat three times\n",
    "\n",
    "line 5 (phrase that could potentially be the title of this poem)"
   ]
  },
  {
   "cell_type": "markdown",
   "metadata": {},
   "source": [
    "#### Code"
   ]
  },
  {
   "cell_type": "markdown",
   "metadata": {},
   "source": [
    "A list of 15 complaints and compliments we gave each other over text messages and consequences selected from Lana Del Rey lyrics"
   ]
  },
  {
   "cell_type": "code",
   "execution_count": 4,
   "metadata": {},
   "outputs": [],
   "source": [
    "complaints = [\n",
    "    'wet my slippers on purpose',\n",
    "    'forget to take out the trash',\n",
    "    'drink too much',\n",
    "    'argue about everything',\n",
    "    'get mad even with the smallest thing',\n",
    "    'put your pride above other people’s feelings',\n",
    "    'have low sex drive',\n",
    "    'take too long to do makeup',\n",
    "    'show up late to every appointment',\n",
    "    'have opinions about everything',\n",
    "    'force me to work out',\n",
    "    'throw parties at home',\n",
    "    'hate the music I like',\n",
    "    'snore',\n",
    "    'eat my food'\n",
    "]"
   ]
  },
  {
   "cell_type": "code",
   "execution_count": 5,
   "metadata": {},
   "outputs": [],
   "source": [
    "compliments = [\n",
    "    'give me a back rub',\n",
    "    'are great at playing Overcooked 2',\n",
    "    'lend me your clothes',\n",
    "    'make nice tea',\n",
    "    'are not afraid of cockroaches',\n",
    "    'don’t freak out when I remove my makeup',\n",
    "    'force me to work out',\n",
    "    'never burn food',\n",
    "    'know my angle when taking photos',\n",
    "    'know my favorite orange juice brand',\n",
    "    'tell me about everything',\n",
    "    'write me love letters',\n",
    "    'buy expensive Sake',\n",
    "    'tolerate my bad singing',\n",
    "    'like washing dishes'\n",
    "]"
   ]
  },
  {
   "cell_type": "code",
   "execution_count": 6,
   "metadata": {},
   "outputs": [],
   "source": [
    "conclusions = [\n",
    "    'I love you so much',\n",
    "    'we have not broken up yet',\n",
    "    'you are all I ever need',\n",
    "    'I’m the happiest girl in the whole USA',\n",
    "    'you are the boss',\n",
    "    'I think you are so cool',\n",
    "    'my trouble is all over now'\n",
    "]"
   ]
  },
  {
   "cell_type": "code",
   "execution_count": 7,
   "metadata": {},
   "outputs": [],
   "source": [
    "import tracery"
   ]
  },
  {
   "cell_type": "code",
   "execution_count": 8,
   "metadata": {},
   "outputs": [],
   "source": [
    "from tracery.modifiers import base_english"
   ]
  },
  {
   "cell_type": "code",
   "execution_count": 10,
   "metadata": {
    "scrolled": true
   },
   "outputs": [
    {
     "name": "stdout",
     "output_type": "stream",
     "text": [
      "You always get mad even with the smallest thing\n",
      "Yet\n",
      "You are great at playing Overcooked 2\n",
      "\n",
      "You are the boss\n",
      "\n",
      "\n",
      "Our modern love story.\n"
     ]
    }
   ],
   "source": [
    "rules = {\n",
    "    \"origin\": \"You always #complaint#\\n#conjunction#\\nYou #compliment#\\n\\n#conclusion.capitalize#\",\n",
    "    \"complaint\": complaints,\n",
    "    \"conjunction\" : [\"But\",\n",
    "                     \"Yet\",\n",
    "                     \"Nevertheless\"\n",
    "                    ],\n",
    "    \"compliment\" : compliments,\n",
    "    \"conclusion\" : conclusions\n",
    "}\n",
    "grammar = tracery.Grammar(rules)\n",
    "grammar.add_modifiers(base_english)\n",
    "# for i in range(3):\n",
    "print(grammar.flatten(\"#origin#\"+\"\\n\\n\"))\n",
    "print(\"Our modern love story.\")"
   ]
  }
 ],
 "metadata": {
  "kernelspec": {
   "display_name": "Python 3",
   "language": "python",
   "name": "python3"
  },
  "language_info": {
   "codemirror_mode": {
    "name": "ipython",
    "version": 3
   },
   "file_extension": ".py",
   "mimetype": "text/x-python",
   "name": "python",
   "nbconvert_exporter": "python",
   "pygments_lexer": "ipython3",
   "version": "3.7.1"
  }
 },
 "nbformat": 4,
 "nbformat_minor": 2
}
